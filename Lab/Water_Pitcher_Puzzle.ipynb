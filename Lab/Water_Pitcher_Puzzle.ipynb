{
 "cells": [
  {
   "cell_type": "code",
   "execution_count": 1,
   "metadata": {},
   "outputs": [],
   "source": [
    "# FIFO\n",
    "class Queue:\n",
    "    \n",
    "    def __init__(self):\n",
    "        self.queue = []\n",
    "        \n",
    "    def __str__(self):\n",
    "        result = f\"Number of items in queue = {len(self.queue)}\\n\"\n",
    "        for item in self.queue:\n",
    "            result += f\"{item}\\n\"\n",
    "        return result \n",
    "    \n",
    "    def enqueue(self, node):\n",
    "        self.queue.append(node)  \n",
    "        \n",
    "    def dequeue(self):\n",
    "        if not self.empty():\n",
    "            return self.queue.pop(0)\n",
    "        else:\n",
    "            print(\"The queue is empty.\")\n",
    "            \n",
    "    def empty(self):\n",
    "        return len(self.queue) == 0\n",
    "    \n",
    "    def contains_state(self, state):\n",
    "        return any(((node.state.current_amount_of_water_in_pitcher_one == state.current_amount_of_water_in_pitcher_one) and (node.state.current_amount_of_water_in_pitcher_two == state.current_amount_of_water_in_pitcher_two)) for node in self.queue)"
   ]
  },
  {
   "cell_type": "code",
   "execution_count": 2,
   "metadata": {},
   "outputs": [],
   "source": [
    "# q = Queue()"
   ]
  },
  {
   "cell_type": "code",
   "execution_count": 3,
   "metadata": {},
   "outputs": [],
   "source": [
    "# q.enqueue(\"Anjana\")"
   ]
  },
  {
   "cell_type": "code",
   "execution_count": 4,
   "metadata": {},
   "outputs": [],
   "source": [
    "# q.enqueue(\"Aadi\")"
   ]
  },
  {
   "cell_type": "code",
   "execution_count": 5,
   "metadata": {},
   "outputs": [],
   "source": [
    "# q.dequeue()"
   ]
  },
  {
   "cell_type": "code",
   "execution_count": 6,
   "metadata": {},
   "outputs": [],
   "source": [
    "# print(q)"
   ]
  },
  {
   "cell_type": "code",
   "execution_count": 7,
   "metadata": {},
   "outputs": [],
   "source": [
    "# q.empty()"
   ]
  },
  {
   "cell_type": "code",
   "execution_count": 8,
   "metadata": {},
   "outputs": [],
   "source": [
    "# q.dequeue()"
   ]
  },
  {
   "cell_type": "code",
   "execution_count": 9,
   "metadata": {},
   "outputs": [],
   "source": [
    "# q.empty()"
   ]
  },
  {
   "cell_type": "code",
   "execution_count": 10,
   "metadata": {},
   "outputs": [],
   "source": [
    "class Node:\n",
    "\n",
    "    def __init__(self, state, parent, action, depth):\n",
    "        self.state = state\n",
    "        self.parent = parent\n",
    "        self.action = action\n",
    "        self.depth = depth\n",
    "        \n",
    "    def __str__(self):\n",
    "        result = f\"State: {self.state}\"\n",
    "        result += f\" | Depth: {self.depth}\"\n",
    "        if self.parent != None:\n",
    "            result += f\" | Parent: {self.parent.state}\"\n",
    "            result += f\" | Action: {self.action}\"\n",
    "        return result\n",
    "    \n",
    "    def repeated_state(self):\n",
    "        if self.parent == None: \n",
    "            return 0\n",
    "        if self.parent.parent == None: \n",
    "            return 0\n",
    "        if self.parent.parent.state.equals(self.state): \n",
    "            return 1\n",
    "        return 0"
   ]
  },
  {
   "cell_type": "code",
   "execution_count": 11,
   "metadata": {},
   "outputs": [],
   "source": [
    "class Search:\n",
    "\n",
    "    def __init__(self, initialState, goalState):\n",
    "        self.q = Queue()\n",
    "        self.q.enqueue(Node(initialState, None, None, 0))\n",
    "        self.goalState = goalState\n",
    "            \n",
    "    def solve(self):\n",
    "        \n",
    "        # Initialize an empty explored set\n",
    "        self.explored = set()\n",
    "        \n",
    "        while not self.q.empty():\n",
    "            current = self.q.dequeue()\n",
    "            if self.goalState.equals(current.state):\n",
    "                return current\n",
    "            \n",
    "            # Mark node as explored\n",
    "            self.explored.add(current.state)\n",
    "            \n",
    "            successors = current.state.apply_actions()\n",
    "            actions = current.state.action_names()\n",
    "            for i in range(len(successors)):\n",
    "                if not self.q.contains_state(successors[i]) and successors[i] not in self.explored and not successors[i].illegal():\n",
    "                    n = Node(successors[i],\n",
    "                            current,\n",
    "                            actions[i],\n",
    "                            current.depth+1)\n",
    "                    if n.repeated_state():\n",
    "                        del(n)\n",
    "                    else:\n",
    "                        self.q.enqueue(n)\n",
    "                        #print(self.q)\n",
    "        return None\n",
    "    \n",
    "    def show_solution_helper(self, node):\n",
    "        result = []\n",
    "        while node != None:\n",
    "            result.insert(0, node)\n",
    "            node = node.parent\n",
    "        return result\n",
    "    \n",
    "    def show_solution(self, node):\n",
    "        path = self.show_solution_helper(node)        \n",
    "        for current in path:\n",
    "            if current.depth != 0:\n",
    "                print(f\"Step {current.depth}:\", current.action)\n",
    "            print(current.state)\n",
    "        print(f\"Solution requires {current.depth} steps\")\n",
    "    \n",
    "    def find_solution(self):\n",
    "        solution = self.solve()\n",
    "        if solution == None:\n",
    "            print(\"No solution!!\")\n",
    "        else:\n",
    "            self.show_solution(solution)"
   ]
  },
  {
   "cell_type": "code",
   "execution_count": 12,
   "metadata": {},
   "outputs": [],
   "source": [
    "class PitcherState:\n",
    "    \n",
    "    global pitcher_one_capacity\n",
    "    global pitcher_two_capacity\n",
    "\n",
    "    def __init__(self, current_amount_of_water_in_pitcher_one, current_amount_of_water_in_pitcher_two):\n",
    "        self.current_amount_of_water_in_pitcher_one = current_amount_of_water_in_pitcher_one\n",
    "        self.current_amount_of_water_in_pitcher_two = current_amount_of_water_in_pitcher_two\n",
    "        \n",
    "    def __str__(self):\n",
    "        return \"(\"+str(self.current_amount_of_water_in_pitcher_one)+\",\"+str(self.current_amount_of_water_in_pitcher_two)+\")\"\n",
    "    \n",
    "    def illegal(self):\n",
    "        if self.current_amount_of_water_in_pitcher_one < 0 or self.current_amount_of_water_in_pitcher_two < 0: return 1\n",
    "        if self.current_amount_of_water_in_pitcher_one > pitcher_one_capacity or self.current_amount_of_water_in_pitcher_two > pitcher_two_capacity: return 1\n",
    "        return 0\n",
    "    \n",
    "    def equals(self, state):\n",
    "        return self.current_amount_of_water_in_pitcher_one==state.current_amount_of_water_in_pitcher_one and self.current_amount_of_water_in_pitcher_two==state.current_amount_of_water_in_pitcher_two\n",
    "    \n",
    "    def fill_pitcher_one(self):\n",
    "        return PitcherState(pitcher_one_capacity, self.current_amount_of_water_in_pitcher_two)\n",
    "    \n",
    "    def fill_pitcher_two(self):\n",
    "        return PitcherState(self.current_amount_of_water_in_pitcher_one, pitcher_two_capacity)\n",
    "    \n",
    "    def drain_pitcher_one(self):\n",
    "        return PitcherState(0, self.current_amount_of_water_in_pitcher_two)\n",
    "    \n",
    "    def drain_pitcher_two(self):\n",
    "        return PitcherState(self.current_amount_of_water_in_pitcher_one, 0)\n",
    "    \n",
    "    def pour_pitcher_one_to_pitcher_two(self):\n",
    "        capacity = pitcher_two_capacity - self.current_amount_of_water_in_pitcher_two\n",
    "        if self.current_amount_of_water_in_pitcher_one > capacity:\n",
    "            return PitcherState(self.current_amount_of_water_in_pitcher_one-capacity, pitcher_two_capacity)\n",
    "        else:\n",
    "            return PitcherState(0, self.current_amount_of_water_in_pitcher_two + self.current_amount_of_water_in_pitcher_one)\n",
    "        \n",
    "    def pour_pitcher_two_to_pitcher_one(self):\n",
    "        capacity = pitcher_one_capacity - self.current_amount_of_water_in_pitcher_one\n",
    "        if self.current_amount_of_water_in_pitcher_two > capacity:\n",
    "            return PitcherState(pitcher_one_capacity, self.current_amount_of_water_in_pitcher_two-capacity)\n",
    "        else:\n",
    "            return PitcherState(self.current_amount_of_water_in_pitcher_one + self.current_amount_of_water_in_pitcher_two, 0)\n",
    "        \n",
    "    def action_names(self):\n",
    "        return [\"fill_pitcher_one\", \"fill_pitcher_two\", \"drain_pitcher_one\", \"drain_pitcher_two\",\n",
    "                \"pour_pitcher_one_to_pitcher_two\", \"pour_pitcher_two_to_pitcher_one\"]\n",
    "    \n",
    "    def apply_actions(self):\n",
    "        return [self.fill_pitcher_one(), self.fill_pitcher_two(),\n",
    "                self.drain_pitcher_one(), self.drain_pitcher_two(),\n",
    "                self.pour_pitcher_one_to_pitcher_two(), self.pour_pitcher_two_to_pitcher_one()] "
   ]
  },
  {
   "cell_type": "code",
   "execution_count": 13,
   "metadata": {},
   "outputs": [
    {
     "ename": "KeyboardInterrupt",
     "evalue": "",
     "output_type": "error",
     "traceback": [
      "\u001b[0;31m---------------------------------------------------------------------------\u001b[0m",
      "\u001b[0;31mKeyboardInterrupt\u001b[0m                         Traceback (most recent call last)",
      "\u001b[0;32m<ipython-input-13-f6b3ec631622>\u001b[0m in \u001b[0;36m<module>\u001b[0;34m\u001b[0m\n\u001b[1;32m      9\u001b[0m     s = Search(PitcherState(0, 0), \n\u001b[1;32m     10\u001b[0m                PitcherState(pitcher_one_final_amount_of_water, pitcher_two_final_amount_of_water))  \n\u001b[0;32m---> 11\u001b[0;31m     \u001b[0ms\u001b[0m\u001b[0;34m.\u001b[0m\u001b[0mfind_solution\u001b[0m\u001b[0;34m(\u001b[0m\u001b[0;34m)\u001b[0m\u001b[0;34m\u001b[0m\u001b[0;34m\u001b[0m\u001b[0m\n\u001b[0m",
      "\u001b[0;32m<ipython-input-11-621409ba0eaf>\u001b[0m in \u001b[0;36mfind_solution\u001b[0;34m(self)\u001b[0m\n\u001b[1;32m     50\u001b[0m \u001b[0;34m\u001b[0m\u001b[0m\n\u001b[1;32m     51\u001b[0m     \u001b[0;32mdef\u001b[0m \u001b[0mfind_solution\u001b[0m\u001b[0;34m(\u001b[0m\u001b[0mself\u001b[0m\u001b[0;34m)\u001b[0m\u001b[0;34m:\u001b[0m\u001b[0;34m\u001b[0m\u001b[0;34m\u001b[0m\u001b[0m\n\u001b[0;32m---> 52\u001b[0;31m         \u001b[0msolution\u001b[0m \u001b[0;34m=\u001b[0m \u001b[0mself\u001b[0m\u001b[0;34m.\u001b[0m\u001b[0msolve\u001b[0m\u001b[0;34m(\u001b[0m\u001b[0;34m)\u001b[0m\u001b[0;34m\u001b[0m\u001b[0;34m\u001b[0m\u001b[0m\n\u001b[0m\u001b[1;32m     53\u001b[0m         \u001b[0;32mif\u001b[0m \u001b[0msolution\u001b[0m \u001b[0;34m==\u001b[0m \u001b[0;32mNone\u001b[0m\u001b[0;34m:\u001b[0m\u001b[0;34m\u001b[0m\u001b[0;34m\u001b[0m\u001b[0m\n\u001b[1;32m     54\u001b[0m             \u001b[0mprint\u001b[0m\u001b[0;34m(\u001b[0m\u001b[0;34m\"No solution!!\"\u001b[0m\u001b[0;34m)\u001b[0m\u001b[0;34m\u001b[0m\u001b[0;34m\u001b[0m\u001b[0m\n",
      "\u001b[0;32m<ipython-input-11-621409ba0eaf>\u001b[0m in \u001b[0;36msolve\u001b[0;34m(self)\u001b[0m\n\u001b[1;32m     11\u001b[0m         \u001b[0mself\u001b[0m\u001b[0;34m.\u001b[0m\u001b[0mexplored\u001b[0m \u001b[0;34m=\u001b[0m \u001b[0mset\u001b[0m\u001b[0;34m(\u001b[0m\u001b[0;34m)\u001b[0m\u001b[0;34m\u001b[0m\u001b[0;34m\u001b[0m\u001b[0m\n\u001b[1;32m     12\u001b[0m \u001b[0;34m\u001b[0m\u001b[0m\n\u001b[0;32m---> 13\u001b[0;31m         \u001b[0;32mwhile\u001b[0m \u001b[0;32mnot\u001b[0m \u001b[0mself\u001b[0m\u001b[0;34m.\u001b[0m\u001b[0mq\u001b[0m\u001b[0;34m.\u001b[0m\u001b[0mempty\u001b[0m\u001b[0;34m(\u001b[0m\u001b[0;34m)\u001b[0m\u001b[0;34m:\u001b[0m\u001b[0;34m\u001b[0m\u001b[0;34m\u001b[0m\u001b[0m\n\u001b[0m\u001b[1;32m     14\u001b[0m             \u001b[0mcurrent\u001b[0m \u001b[0;34m=\u001b[0m \u001b[0mself\u001b[0m\u001b[0;34m.\u001b[0m\u001b[0mq\u001b[0m\u001b[0;34m.\u001b[0m\u001b[0mdequeue\u001b[0m\u001b[0;34m(\u001b[0m\u001b[0;34m)\u001b[0m\u001b[0;34m\u001b[0m\u001b[0;34m\u001b[0m\u001b[0m\n\u001b[1;32m     15\u001b[0m             \u001b[0;32mif\u001b[0m \u001b[0mself\u001b[0m\u001b[0;34m.\u001b[0m\u001b[0mgoalState\u001b[0m\u001b[0;34m.\u001b[0m\u001b[0mequals\u001b[0m\u001b[0;34m(\u001b[0m\u001b[0mcurrent\u001b[0m\u001b[0;34m.\u001b[0m\u001b[0mstate\u001b[0m\u001b[0;34m)\u001b[0m\u001b[0;34m:\u001b[0m\u001b[0;34m\u001b[0m\u001b[0;34m\u001b[0m\u001b[0m\n",
      "\u001b[0;31mKeyboardInterrupt\u001b[0m: "
     ]
    }
   ],
   "source": [
    "pitcher_one_capacity = 3\n",
    "pitcher_two_capacity = 3\n",
    "pitcher_one_final_amount_of_water = 0\n",
    "pitcher_two_final_amount_of_water = 2\n",
    "\n",
    "if (pitcher_one_final_amount_of_water > pitcher_one_capacity) or (pitcher_two_final_amount_of_water > pitcher_two_capacity):\n",
    "    print(\"No solution!!\")\n",
    "else:\n",
    "    s = Search(PitcherState(0, 0), \n",
    "               PitcherState(pitcher_one_final_amount_of_water, pitcher_two_final_amount_of_water))  \n",
    "    s.find_solution()"
   ]
  },
  {
   "cell_type": "code",
   "execution_count": null,
   "metadata": {},
   "outputs": [],
   "source": []
  },
  {
   "cell_type": "code",
   "execution_count": null,
   "metadata": {},
   "outputs": [],
   "source": []
  },
  {
   "cell_type": "code",
   "execution_count": null,
   "metadata": {},
   "outputs": [],
   "source": []
  }
 ],
 "metadata": {
  "kernelspec": {
   "display_name": "Python 3",
   "language": "python",
   "name": "python3"
  },
  "language_info": {
   "codemirror_mode": {
    "name": "ipython",
    "version": 3
   },
   "file_extension": ".py",
   "mimetype": "text/x-python",
   "name": "python",
   "nbconvert_exporter": "python",
   "pygments_lexer": "ipython3",
   "version": "3.8.5"
  }
 },
 "nbformat": 4,
 "nbformat_minor": 4
}
