{
 "cells": [
  {
   "cell_type": "code",
   "execution_count": 1,
   "metadata": {},
   "outputs": [],
   "source": [
    "import sys\n",
    "import ipywidgets as widgets\n",
    "from IPython.display import clear_output"
   ]
  },
  {
   "cell_type": "code",
   "execution_count": 2,
   "metadata": {},
   "outputs": [],
   "source": [
    "class Graph(): \n",
    "    \n",
    "    def __init__(self, adjacency_matrix): \n",
    "        self.number_of_vertices = len(adjacency_matrix) \n",
    "        self.graph = adjacency_matrix"
   ]
  },
  {
   "cell_type": "code",
   "execution_count": 3,
   "metadata": {},
   "outputs": [],
   "source": [
    "class Two_Queue():\n",
    "    \n",
    "    def __init__(self):\n",
    "        self.Q1 = []\n",
    "        self.Q2 = []\n",
    "    \n",
    "    def enqueue_Q1(self, x):\n",
    "        self.Q1.append(x)\n",
    "    \n",
    "    def enqueue_Q2(self, x):\n",
    "        self.Q2.append(x)\n",
    "    \n",
    "    def dequeue_Q1(self):\n",
    "        self.Q1.pop(0)\n",
    "    \n",
    "    def dequeue_Q2(self): \n",
    "        self.Q2.pop(0)\n",
    "        \n",
    "    def is_empty_Q1(self):\n",
    "        return len(self.Q1) == 0\n",
    "    \n",
    "    def is_empty_Q2(self):\n",
    "        return len(self.Q2) == 0\n",
    "    \n",
    "    def is_empty(self):\n",
    "        return self.is_empty_Q2() and self.is_empty_Q1()"
   ]
  },
  {
   "cell_type": "code",
   "execution_count": 4,
   "metadata": {},
   "outputs": [],
   "source": [
    "class Search():\n",
    "    \n",
    "    def __init__(self, network):\n",
    "        self.network = network\n",
    "    \n",
    "    def print_solution(self, src, dist):\n",
    "        initial_vertex = 65\n",
    "        print(f\"Vertex \\tMinimum Distance from Source Vertex({src})\")\n",
    "        for node in range(self.network.number_of_vertices): \n",
    "            if dist[node] == sys.maxsize:\n",
    "                minimum_distance_from_source_vertex = \"No path\"\n",
    "            else:\n",
    "                minimum_distance_from_source_vertex = dist[node]\n",
    "            print(f\"{chr(initial_vertex)}\\t{minimum_distance_from_source_vertex}\")\n",
    "            initial_vertex = initial_vertex + 1\n",
    "\n",
    "    def dijkstra_using_buckets(self, src):\n",
    "        \n",
    "        source_vertex = src\n",
    "        \n",
    "        # Example: \"A\" -> 0\n",
    "        source_vertex_index = ord(src) - 65\n",
    "        \n",
    "        minimum_distances_from_source_vertex = [sys.maxsize] * self.network.number_of_vertices \n",
    "        minimum_distances_from_source_vertex[source_vertex_index] = 0\n",
    "        \n",
    "        shortest_path_tree_status = [False] * self.network.number_of_vertices \n",
    "        \n",
    "        # Maximum distance between any two node can be at max w(V – 1)\n",
    "        # w is maximum edge weight \n",
    "        # we can have at max V-1 edges between two vertices\n",
    "        buckets = [[] for bucket in range(max(map(max, self.network.graph)) * (self.network.number_of_vertices - 1))]\n",
    "  \n",
    "        for _ in range(self.network.number_of_vertices):  \n",
    "      \n",
    "            for vertex_index, vertex_distance_from_source in enumerate(minimum_distances_from_source_vertex):\n",
    "                if ((shortest_path_tree_status[vertex_index] == False) \n",
    "                    and (vertex_distance_from_source < sys.maxsize)\n",
    "                    and vertex_index not in buckets[vertex_distance_from_source]):\n",
    "\n",
    "                    buckets[vertex_distance_from_source].append(vertex_index)\n",
    "            \n",
    "            # From the set of vertices not yet processed,\n",
    "            # Pick the vertex having the minimum distance from the source node  \n",
    "            # NOTE: current_minimum_distance_vertex_index is always equal to source_vertex_index in the first iteration\n",
    "            \n",
    "            for bucket in buckets:\n",
    "                if len(bucket) != 0:\n",
    "                    current_minimum_distance_vertex_index = bucket.pop(0)\n",
    "                    break\n",
    "\n",
    "            # Update the status minimum distance vertex\n",
    "            # in the shortest path tree \n",
    "            shortest_path_tree_status[current_minimum_distance_vertex_index] = True\n",
    "            \n",
    "            # Update distance values of the adjacent vertices of the picked vertex \n",
    "            # only if the current distance is greater than new distance \n",
    "            # and the vertex in not in the shortest path tree\n",
    "            \n",
    "            for v in range(self.network.number_of_vertices): \n",
    "                if (self.network.graph[current_minimum_distance_vertex_index][v] > 0 \n",
    "                    and shortest_path_tree_status[v] == False \n",
    "                    and minimum_distances_from_source_vertex[v] > (\n",
    "                        minimum_distances_from_source_vertex[current_minimum_distance_vertex_index] \n",
    "                        + self.network.graph[current_minimum_distance_vertex_index][v])\n",
    "                   ):\n",
    "                    \n",
    "                    minimum_distances_from_source_vertex[v] = (\n",
    "                        minimum_distances_from_source_vertex[current_minimum_distance_vertex_index] \n",
    "                        + self.network.graph[current_minimum_distance_vertex_index][v]\n",
    "                    ) \n",
    "                    \n",
    "        #self.print_solution(source_vertex, minimum_distances_from_source_vertex) \n",
    "        return (source_vertex, minimum_distances_from_source_vertex)\n",
    "\n",
    "        \n",
    "    def two_queues(self,src):\n",
    "        source_vertex = src\n",
    "        \n",
    "        # Example: \"A\" -> 0\n",
    "        source_vertex_index = ord(src) - 65\n",
    "        \n",
    "        minimum_distances_from_source_vertex = [sys.maxsize] * self.network.number_of_vertices \n",
    "        minimum_distances_from_source_vertex[source_vertex_index] = 0 \n",
    "        \n",
    "        Q = Two_Queue()\n",
    "        # Q1 - When a vertex is visited for the first time\n",
    "        # Q2 - Once a vertex is temporarily labeled, Q1 -> Q2\n",
    "        \n",
    "        Q.enqueue_Q2(source_vertex_index)\n",
    "\n",
    "        while not Q.is_empty():\n",
    "            \n",
    "            if not Q.is_empty_Q2():\n",
    "                intermediate_vertex = Q.Q2[0]\n",
    "                Q.dequeue_Q2()\n",
    "            else:\n",
    "                intermediate_vertex = Q.Q1[0]\n",
    "                Q.dequeue_Q1()\n",
    "\n",
    "            for vertex in range(self.network.number_of_vertices):\n",
    "                \n",
    "                if (self.network.graph[intermediate_vertex][vertex] > 0 \n",
    "                    and  minimum_distances_from_source_vertex[vertex] == sys.maxsize):\n",
    "                    if vertex not in Q.Q1:\n",
    "                        Q.enqueue_Q1(vertex)\n",
    "                    minimum_distances_from_source_vertex[vertex] = (minimum_distances_from_source_vertex[intermediate_vertex] \n",
    "                                                                    + self.network.graph[intermediate_vertex][vertex])\n",
    "                  \n",
    "                elif (self.network.graph[intermediate_vertex][vertex] > 0 \n",
    "                      and ((minimum_distances_from_source_vertex[intermediate_vertex] \n",
    "                            + self.network.graph[intermediate_vertex][vertex]) \n",
    "                           < minimum_distances_from_source_vertex[vertex])):\n",
    "                    if vertex not in Q.Q2:\n",
    "                        Q.enqueue_Q2(vertex)\n",
    "                    minimum_distances_from_source_vertex[vertex] = \\\n",
    "                    minimum_distances_from_source_vertex[intermediate_vertex] + self.network.graph[intermediate_vertex][vertex]\n",
    "        \n",
    "        \n",
    "        #self.print_solution(source_vertex, minimum_distances_from_source_vertex)\n",
    "        return (source_vertex, minimum_distances_from_source_vertex)\n"
   ]
  },
  {
   "cell_type": "code",
   "execution_count": 5,
   "metadata": {},
   "outputs": [],
   "source": [
    "adjacency_matrix = [[0, 4, 0, 0, 0, 5, 0], \n",
    "                    [0, 0, 2, 0, 0, 0, 1], \n",
    "                    [0, 0, 0, 10, 0, 0, 3], \n",
    "                    [0, 0, 0, 0, 6, 0, 0], \n",
    "                    [0, 0, 0, 0, 0, 1, 0], \n",
    "                    [0, 0, 0, 0, 0, 0, 0], \n",
    "                    [2, 0, 0, 2, 4, 8, 0], \n",
    "                   ];  \n",
    "\n",
    "network = Graph(adjacency_matrix) "
   ]
  },
  {
   "cell_type": "code",
   "execution_count": 6,
   "metadata": {},
   "outputs": [],
   "source": [
    "s = Search(network)"
   ]
  },
  {
   "cell_type": "code",
   "execution_count": 7,
   "metadata": {},
   "outputs": [],
   "source": [
    "#s.two_queues(\"A\")"
   ]
  },
  {
   "cell_type": "code",
   "execution_count": 8,
   "metadata": {},
   "outputs": [],
   "source": [
    "#s.dijkstra_using_buckets(\"A\")"
   ]
  },
  {
   "cell_type": "code",
   "execution_count": 9,
   "metadata": {},
   "outputs": [],
   "source": [
    "source_vertex = widgets.Dropdown(\n",
    "    options=[(\"A\"), (\"B\"), (\"C\"), (\"D\"), (\"E\"), (\"F\"), (\"G\")],\n",
    "    disabled=False,\n",
    ")"
   ]
  },
  {
   "cell_type": "code",
   "execution_count": 10,
   "metadata": {},
   "outputs": [],
   "source": [
    "output_DIKBA = widgets.Output()\n",
    "\n",
    "button_DIKBA = widgets.Button(description=\"DIKBA\")\n",
    "\n",
    "def on_button_DIKBA_clicked(b):\n",
    "    s = Search(network)\n",
    "    svertex, minimum_distances_from_source_vertex = s.dijkstra_using_buckets(source_vertex.value)\n",
    "    with output_DIKBA:\n",
    "        clear_output(True)\n",
    "        s.print_solution(svertex, minimum_distances_from_source_vertex)        \n",
    "button_DIKBA.on_click(on_button_DIKBA_clicked)"
   ]
  },
  {
   "cell_type": "code",
   "execution_count": 11,
   "metadata": {},
   "outputs": [],
   "source": [
    "output_TWO_Q = widgets.Output()\n",
    "\n",
    "button_TWO_Q = widgets.Button(description=\"TWO-Q\")\n",
    "\n",
    "def on_button_TWO_Q_clicked(b):\n",
    "    s = Search(network)\n",
    "    svertex, minimum_distances_from_source_vertex = s.two_queues(source_vertex.value)\n",
    "    with output_TWO_Q:\n",
    "        clear_output(True)\n",
    "        s.print_solution(svertex, minimum_distances_from_source_vertex)        \n",
    "button_TWO_Q.on_click(on_button_TWO_Q_clicked)"
   ]
  },
  {
   "cell_type": "markdown",
   "metadata": {},
   "source": [
    "## Label-Setting Algorithm (DIKBA) VS Label-Correcting Algorithm (TWO-Q)\n",
    "\n",
    "#### Developed by Mounica, Narendra & Urvi "
   ]
  },
  {
   "cell_type": "markdown",
   "metadata": {},
   "source": [
    "![](G.png)"
   ]
  },
  {
   "cell_type": "markdown",
   "metadata": {},
   "source": [
    "### Please choose a source vertex:"
   ]
  },
  {
   "cell_type": "code",
   "execution_count": 12,
   "metadata": {},
   "outputs": [
    {
     "data": {
      "application/vnd.jupyter.widget-view+json": {
       "model_id": "feb43a612f714052bc47349bfcc9b492",
       "version_major": 2,
       "version_minor": 0
      },
      "text/plain": [
       "Dropdown(options=('A', 'B', 'C', 'D', 'E', 'F', 'G'), value='A')"
      ]
     },
     "metadata": {},
     "output_type": "display_data"
    }
   ],
   "source": [
    "display(source_vertex)"
   ]
  },
  {
   "cell_type": "markdown",
   "metadata": {},
   "source": [
    "### Go ahead and try out your favorite algorithm!!"
   ]
  },
  {
   "cell_type": "code",
   "execution_count": 13,
   "metadata": {},
   "outputs": [
    {
     "data": {
      "application/vnd.jupyter.widget-view+json": {
       "model_id": "5b0eccc02fa84fe2a70d18a2cabfc004",
       "version_major": 2,
       "version_minor": 0
      },
      "text/plain": [
       "Button(description='DIKBA', style=ButtonStyle())"
      ]
     },
     "metadata": {},
     "output_type": "display_data"
    },
    {
     "data": {
      "application/vnd.jupyter.widget-view+json": {
       "model_id": "ccd25d164d09434f845aa752c944db44",
       "version_major": 2,
       "version_minor": 0
      },
      "text/plain": [
       "Output()"
      ]
     },
     "metadata": {},
     "output_type": "display_data"
    }
   ],
   "source": [
    "display(button_DIKBA)\n",
    "display(output_DIKBA)"
   ]
  },
  {
   "cell_type": "code",
   "execution_count": 14,
   "metadata": {},
   "outputs": [
    {
     "data": {
      "application/vnd.jupyter.widget-view+json": {
       "model_id": "2d46dfa0498e4170b1124ac4ef189a4d",
       "version_major": 2,
       "version_minor": 0
      },
      "text/plain": [
       "Button(description='TWO-Q', style=ButtonStyle())"
      ]
     },
     "metadata": {},
     "output_type": "display_data"
    },
    {
     "data": {
      "application/vnd.jupyter.widget-view+json": {
       "model_id": "37e91d480f0c4f5f9f2e5653c38bbe72",
       "version_major": 2,
       "version_minor": 0
      },
      "text/plain": [
       "Output()"
      ]
     },
     "metadata": {},
     "output_type": "display_data"
    }
   ],
   "source": [
    "display(button_TWO_Q)\n",
    "display(output_TWO_Q)"
   ]
  },
  {
   "cell_type": "code",
   "execution_count": null,
   "metadata": {},
   "outputs": [],
   "source": []
  }
 ],
 "metadata": {
  "kernelspec": {
   "display_name": "Python 3",
   "language": "python",
   "name": "python3"
  },
  "language_info": {
   "codemirror_mode": {
    "name": "ipython",
    "version": 3
   },
   "file_extension": ".py",
   "mimetype": "text/x-python",
   "name": "python",
   "nbconvert_exporter": "python",
   "pygments_lexer": "ipython3",
   "version": "3.8.5"
  }
 },
 "nbformat": 4,
 "nbformat_minor": 4
}
